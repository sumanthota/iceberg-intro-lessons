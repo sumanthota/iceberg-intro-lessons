{
 "cells": [
  {
   "cell_type": "markdown",
   "id": "294c1695",
   "metadata": {},
   "source": [
    "# Lesson 2"
   ]
  },
  {
   "cell_type": "code",
   "execution_count": 4,
   "id": "23a1c112",
   "metadata": {},
   "outputs": [
    {
     "name": "stdout",
     "output_type": "stream",
     "text": [
      "Defaulting to user installation because normal site-packages is not writeable\n",
      "Requirement already satisfied: numpy in /home/docker/.local/lib/python3.10/site-packages (1.26.2)\n"
     ]
    }
   ],
   "source": [
    "!pip install numpy"
   ]
  },
  {
   "cell_type": "code",
   "execution_count": null,
   "id": "6cee317b",
   "metadata": {},
   "outputs": [],
   "source": [
    "import pyspark\n",
    "from pyspark.sql import SparkSession\n",
    "import os\n",
    "\n",
    "## DEFINE SENSITIVE VARIABLES\n",
    "NESSIE_URI = \"http://nessie:19120/api/v1\"\n",
    "# we are using v1 api for Spark, and v2 for Dremio. \n",
    "# Eventually we will use v2 for both. \n",
    "MINIO_ACCESS_KEY = \"K3zor6ZAUwbBrfiGPGwJ\"\n",
    "MINIO_SECRET_KEY = \"46WaMwDWdaHEHin1KECq2FTAGllxETtyfGDMi9HI\"\n",
    "\n",
    "# How to configure Iceberg for Spark\n",
    "conf = (\n",
    "    pyspark.SparkConf()\n",
    "        .setAppName('app_name')\n",
    "  \t\t#packages\n",
    "        .set('spark.jars.packages', 'org.apache.iceberg:iceberg-spark-runtime-3.3_2.12:1.3.1,org.projectnessie.nessie-integrations:nessie-spark-extensions-3.3_2.12:0.67.0,software.amazon.awssdk:bundle:2.17.178,software.amazon.awssdk:url-connection-client:2.17.178')\n",
    "  \t\t#SQL Extensions\n",
    "        .set('spark.sql.extensions', 'org.apache.iceberg.spark.extensions.IcebergSparkSessionExtensions,org.projectnessie.spark.extensions.NessieSparkSessionExtensions')\n",
    "  \t\t#Configuring Catalog\n",
    "        .set('spark.sql.catalog.nessie3', 'org.apache.iceberg.spark.SparkCatalog')\n",
    "        .set('spark.sql.catalog.nessie3.uri', NESSIE_URI)\n",
    "        .set('spark.sql.catalog.nessie3.ref', 'main')\n",
    "        .set('spark.sql.catalog.nessie3.authentication.type', 'NONE')\n",
    "        .set('spark.sql.catalog.nessie3.catalog-impl', 'org.apache.iceberg.nessie.NessieCatalog')\n",
    "        .set('spark.sql.catalog.nessie3.warehouse', 's3a://warehouse')\n",
    "        .set('spark.sql.catalog.nessie3.s3.endpoint', 'http://minio:9000')\n",
    "        .set('spark.sql.catalog.nessie3.io-impl', 'org.apache.iceberg.aws.s3.S3FileIO')\n",
    "  \t\t#MINIO CREDENTIALS\n",
    "        .set('spark.hadoop.fs.s3a.access.key', MINIO_ACCESS_KEY)\n",
    "        .set('spark.hadoop.fs.s3a.secret.key', MINIO_SECRET_KEY)\n",
    ")\n",
    "\n",
    "## Start Spark Session\n",
    "spark = SparkSession.builder.config(conf=conf).getOrCreate()\n",
    "print(\"Spark Running\")\n",
    "\n",
    "## LOAD A CSV INTO AN SQL VIEW\n",
    "csv_df = spark.read.format(\"csv\").option(\"header\", \"true\").load(\"../datasets/df_open_2023.csv\")\n",
    "csv_df.createOrReplaceTempView(\"csv_open_2023_3\")\n",
    "\n",
    "## CREATE AN ICEBERG TABLE FROM THE SQL VIEW\n",
    "spark.sql(\"CREATE TABLE IF NOT EXISTS nessie3.df_open_2023_lesson2 USING iceberg AS SELECT * FROM csv_open_2023_2\").show()\n",
    "\n",
    "## QUERY THE ICEBERG TABLE\n",
    "spark.sql(\"SELECT * FROM nessie3.df_open_2023_lesson2 limit 10\").show()\n",
    "\n",
    "## QUERY THE COUNT OF ENTRIES\n",
    "spark.sql(\"SELECT Count(*) as Total FROM nessie3.df_open_2023_lesson2\").show()\n",
    "\n",
    "# ## CREATE A BRANCH WITH NESSIE\n",
    "# spark.sql(\"CREATE BRANCH IF NOT EXISTS lesson2 IN nessie\")\n",
    "\n",
    "# ## SWTICH TO THE NEW BRANCH\n",
    "# spark.sql(\"USE REFERENCE lesson2 IN nessie\")\n",
    "\n",
    "# ## DELETE ALL RECORDS WHERE countryOfOriginCode = 'FR'\n",
    "# spark.sql(\"DELETE FROM nessie.df_open_2023_lesson2 WHERE countryOfOriginCode = 'FR'\")\n",
    "\n",
    "# ## QUERY THE COUNT OF ENTRIES\n",
    "# spark.sql(\"SELECT Count(*) as Total FROM nessie.df_open_2023_lesson2\").show()\n",
    "\n",
    "# ## SWITCH BACK TO MAIN BRANCH\n",
    "# spark.sql(\"USE REFERENCE main IN nessie\")\n",
    "\n",
    "# ## QUERY THE COUNT OF ENTRIES\n",
    "# spark.sql(\"SELECT Count(*) as Total FROM nessie.df_open_2023_lesson2\").show()\n",
    "\n",
    "# ## MERGE THE CHANGES\n",
    "# spark.sql(\"MERGE BRANCH lesson2 INTO main IN nessie\")\n",
    "\n",
    "# ## QUERY THE COUNT OF ENTRIES\n",
    "# spark.sql(\"SELECT Count(*) as Total FROM nessie.df_open_2023_lesson2\").show()"
   ]
  },
  {
   "cell_type": "code",
   "execution_count": null,
   "id": "fb15f6bd",
   "metadata": {},
   "outputs": [],
   "source": []
  }
 ],
 "metadata": {
  "kernelspec": {
   "display_name": "Python 3 (ipykernel)",
   "language": "python",
   "name": "python3"
  },
  "language_info": {
   "codemirror_mode": {
    "name": "ipython",
    "version": 3
   },
   "file_extension": ".py",
   "mimetype": "text/x-python",
   "name": "python",
   "nbconvert_exporter": "python",
   "pygments_lexer": "ipython3",
   "version": "3.10.6"
  }
 },
 "nbformat": 4,
 "nbformat_minor": 5
}
